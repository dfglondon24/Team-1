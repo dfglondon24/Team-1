{
 "cells": [
  {
   "cell_type": "code",
   "execution_count": 2,
   "id": "b7b43383-0f83-435b-884d-5530d150f836",
   "metadata": {
    "tags": []
   },
   "outputs": [],
   "source": [
    "import numpy as np\n",
    "import pandas as pd\n",
    "import openpyxl"
   ]
  },
  {
   "cell_type": "code",
   "execution_count": 3,
   "id": "f38bab31-4bd1-40a1-af0e-9a8777398d15",
   "metadata": {
    "tags": []
   },
   "outputs": [],
   "source": [
    "path = 'shared_data_read_only/Data/AfriKids/InternalData/Project_Surveys/2023_Annual_Survey_Data/Chief__Queen_Mother-2024-02-03-11-57-35.xlsx'\n",
    "\n",
    "\n",
    "xls = pd.ExcelFile(path)\n",
    "df = pd.read_excel(xls, 'FINAL_Chief & Queen Mother')"
   ]
  },
  {
   "cell_type": "code",
   "execution_count": 4,
   "id": "4f95ee8d-e191-434f-ba9f-232584c9ee6f",
   "metadata": {
    "tags": []
   },
   "outputs": [],
   "source": [
    "resp_name = df[\"Title of Respondent\"]\n",
    "name_community = df[\"2.Name of Community\"]\n",
    "district_name = df[\"District\"]\n",
    "reduct_violence_QUAL = [\"a. To what extent have you noticed a reduction in violence, exploitation, and harmful practices against children in your community? (Qualitative)\"]\n",
    "barriers_to_viol_QUAL = [\"b. What are the specific challenges or barriers hindering the reduction of violence and exploitation against children? (Qualitative)\"]\n"
   ]
  },
  {
   "cell_type": "code",
   "execution_count": null,
   "id": "1eb2f871-162f-441b-a329-55d3b7f62644",
   "metadata": {},
   "outputs": [],
   "source": []
  }
 ],
 "metadata": {
  "kernelspec": {
   "display_name": "Python 3 (ipykernel)",
   "language": "python",
   "name": "python3"
  },
  "language_info": {
   "codemirror_mode": {
    "name": "ipython",
    "version": 3
   },
   "file_extension": ".py",
   "mimetype": "text/x-python",
   "name": "python",
   "nbconvert_exporter": "python",
   "pygments_lexer": "ipython3",
   "version": "3.10.10"
  }
 },
 "nbformat": 4,
 "nbformat_minor": 5
}
