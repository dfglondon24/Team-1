{
 "cells": [
  {
   "cell_type": "code",
   "execution_count": 7,
   "id": "b7b43383-0f83-435b-884d-5530d150f836",
   "metadata": {
    "tags": []
   },
   "outputs": [],
   "source": [
    "import numpy as np\n",
    "import pandas as pd\n",
    "import openpyxl"
   ]
  },
  {
   "cell_type": "code",
   "execution_count": 9,
   "id": "f38bab31-4bd1-40a1-af0e-9a8777398d15",
   "metadata": {
    "tags": []
   },
   "outputs": [],
   "source": [
    "path = 'shared_data_read_only/Data/AfriKids/InternalData/Project_Surveys/2023_Annual_Survey_Data/Chief__Queen_Mother-2024-02-03-11-57-35.xlsx'\n",
    "\n",
    "\n",
    "xls = pd.ExcelFile(path)\n",
    "df = pd.read_excel(xls, 'FINAL_Chief & Queen Mother')"
   ]
  },
  {
   "cell_type": "code",
   "execution_count": 10,
   "id": "4f95ee8d-e191-434f-ba9f-232584c9ee6f",
   "metadata": {
    "tags": []
   },
   "outputs": [],
   "source": [
    "resp_name = df[\"Title of Respondent\"]\n",
    "name_community = df[\"2.Name of Community\"]\n",
    "district_name = df[\"District\"]\n",
    "reduct_violence_QUAL = df[\"a. To what extent have you noticed a reduction in violence, exploitation, and harmful practices against children in your community? (Qualitative)\"]\n",
    "barriers_to_viol_QUAL = df[\"b. What are the specific challenges or barriers hindering the reduction of violence and exploitation against children? (Qualitative)\"]\n",
    "\n",
    "reduct_violence_QUANT = df[\"c. On a scale of 1 to 10, with 1 being no reduction and 10 being a significant reduction, how would you rate the overall reduction in violence against children? (Quantitative)\"]\n",
    "\n",
    "afrikids1_QUAL = df[\"b. If yes, how have engagements and events organized by AfriKids in the community contributed to increasing awareness about child rights, especially among girls and children with disabilities? (Qualitative)\"]\n",
    "afrikids_examples_QUAL = df[\"c. Can you provide specific examples of engagements or events by AfriKids that have been particularly effective in raising awareness about child rights? (Qualitative)\"]\n",
    "\n",
    "socioeconomic_QUAL = df[\"c. Can you provide examples of socio-cultural practices that community members are now able to identify as harmful to children? (Qualitative)\"]\n",
    "\n",
    "actions_post_QUAL = df[\"c. If yes, can you provide examples of initiatives or actions you've taken to promote child rights and discourage harmful practices? (Qualitative)\"]\n",
    "\n",
    "particip_training = df[\"a.       Have you participated in training sessions to enhance their capacity in ensuring child protection? (Yes/No) (Qualitative)\"]\n",
    "\n",
    "training_provider = df[\"b.      Who organized the training?\"]\n",
    "\n",
    "examples_training_sessions = df[\"d. Can you share examples of how training sessions have contributed to improving the capacity of stakeholders and duty bearers in child protection? (Qualitative)\"]"
   ]
  },
  {
   "cell_type": "code",
   "execution_count": 11,
   "id": "1eb2f871-162f-441b-a329-55d3b7f62644",
   "metadata": {},
   "outputs": [
    {
     "data": {
      "text/plain": [
       "0     They thought me how to protect children in my ...\n",
       "1     At the meeting they told us how to protect by ...\n",
       "2     It has helped in the increasing girls child in...\n",
       "3     Education done in the training are put into pr...\n",
       "4                                                   NaN\n",
       "5                                                   NaN\n",
       "6      Help parents to take good care of their children\n",
       "7          There's improvement of changes to the people\n",
       "8                                                   NaN\n",
       "9                                                   NaN\n",
       "10    It has improved a lot, there is no stigmatizat...\n",
       "11             Acquiring knowledge on child protection \n",
       "12                            It extended our knowledge\n",
       "13                People are educated on so many things\n",
       "14                                                  NaN\n",
       "15                                                  NaN\n",
       "16                                                  NaN\n",
       "17                                       Very effective\n",
       "18                       All has been put into partics \n",
       "19                Acquire knowledge on child protection\n",
       "20    The educate as on child protection and we are ...\n",
       "21                                  Yes. Good nutrition\n",
       "22                                                  NaN\n",
       "23    Yes, it was about child protection and their g...\n",
       "24    She learned a lot about leadership training, c...\n",
       "25                                                  NaN\n",
       "26    It has encouraged  us to speak  when  ever chi...\n",
       "27                                                  NaN\n",
       "28                                                  NaN\n",
       "29                                                  NaN\n",
       "30                                                 none\n",
       "31                                                  NaN\n",
       "32                                                  NaN\n",
       "Name: d. Can you share examples of how training sessions have contributed to improving the capacity of stakeholders and duty bearers in child protection? (Qualitative), dtype: object"
      ]
     },
     "execution_count": 11,
     "metadata": {},
     "output_type": "execute_result"
    }
   ],
   "source": []
  },
  {
   "cell_type": "code",
   "execution_count": null,
   "id": "2c6e0bb4-2592-4bae-81f0-7c0320464e84",
   "metadata": {},
   "outputs": [],
   "source": []
  }
 ],
 "metadata": {
  "kernelspec": {
   "display_name": "Python 3 (ipykernel)",
   "language": "python",
   "name": "python3"
  },
  "language_info": {
   "codemirror_mode": {
    "name": "ipython",
    "version": 3
   },
   "file_extension": ".py",
   "mimetype": "text/x-python",
   "name": "python",
   "nbconvert_exporter": "python",
   "pygments_lexer": "ipython3",
   "version": "3.10.10"
  }
 },
 "nbformat": 4,
 "nbformat_minor": 5
}
